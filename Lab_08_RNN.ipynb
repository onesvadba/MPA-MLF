{
  "cells": [
    {
      "cell_type": "markdown",
      "metadata": {
        "id": "view-in-github",
        "colab_type": "text"
      },
      "source": [
        "<a href=\"https://colab.research.google.com/github/onesvadba/MPA-MLF/blob/main/Lab_08_RNN.ipynb\" target=\"_parent\"><img src=\"https://colab.research.google.com/assets/colab-badge.svg\" alt=\"Open In Colab\"/></a>"
      ]
    },
    {
      "cell_type": "markdown",
      "id": "4e658167-a5e2-42c5-9fa6-01f7021fbca4",
      "metadata": {
        "id": "4e658167-a5e2-42c5-9fa6-01f7021fbca4"
      },
      "source": [
        "# MKA-MLF, Lab_08 - RNN"
      ]
    },
    {
      "cell_type": "markdown",
      "source": [
        "Recurrent Neural Networks, are a class of artificial neural networks designed to recognize patterns in sequences of data, such as text, genomes, handwriting, or spoken words. Unlike traditional neural networks, which assume all inputs (and outputs) are independent of each other, RNNs are designed to recognize sequential or temporal patterns, making them especially suited for tasks like language modeling, speech recognition, and time series prediction."
      ],
      "metadata": {
        "id": "F6KltZSGklJQ"
      },
      "id": "F6KltZSGklJQ"
    },
    {
      "cell_type": "markdown",
      "source": [
        "## Exercise 1 - Time Series Forecasting"
      ],
      "metadata": {
        "id": "zheceqk2lMcA"
      },
      "id": "zheceqk2lMcA"
    },
    {
      "cell_type": "markdown",
      "source": [
        "### 1.0 Import Libraries"
      ],
      "metadata": {
        "id": "TzFZTA1DrJbG"
      },
      "id": "TzFZTA1DrJbG"
    },
    {
      "cell_type": "code",
      "source": [
        "import numpy as np\n",
        "import matplotlib.pyplot as plt\n",
        "from keras.models import Sequential\n",
        "from keras.layers import Dense, Flatten, SimpleRNN"
      ],
      "metadata": {
        "id": "Whyi3QznnAbG"
      },
      "id": "Whyi3QznnAbG",
      "execution_count": 166,
      "outputs": []
    },
    {
      "cell_type": "markdown",
      "source": [
        "### 1.1 Generating dataset"
      ],
      "metadata": {
        "id": "UBqkZx0lrCAP"
      },
      "id": "UBqkZx0lrCAP"
    },
    {
      "cell_type": "code",
      "source": [
        "def generate_time_series(batch_size, n_steps):\n",
        "  freq1, freq2, offsets1, offsets2 = np.random.rand(4, batch_size, 1)\n",
        "  time = np.linspace(0,1,n_steps)\n",
        "\n",
        "  series = 0.5 * np.sin((time - offsets1) * (freq1*10 + 10))\n",
        "  series += 0.2 * np.sin((time - offsets2) * (freq2*20 + 20))\n",
        "  series += 0.1 * (np.random.rand(batch_size, n_steps)- 0.5)\n",
        "  return series[..., np.newaxis].astype(np.float32)"
      ],
      "metadata": {
        "id": "Q_Q3ulmRlS6R"
      },
      "id": "Q_Q3ulmRlS6R",
      "execution_count": 167,
      "outputs": []
    },
    {
      "cell_type": "code",
      "source": [
        "data_size = 10000\n",
        "n_steps = 50\n",
        "np.random.seed(0)\n",
        "\n",
        "series = generate_time_series(data_size, n_steps + 1)"
      ],
      "metadata": {
        "id": "p9kt6EQjkfvi"
      },
      "id": "p9kt6EQjkfvi",
      "execution_count": 168,
      "outputs": []
    },
    {
      "cell_type": "markdown",
      "source": [
        "### 1.2 Train/Valid/Test split"
      ],
      "metadata": {
        "id": "5neyWb-NrQ98"
      },
      "id": "5neyWb-NrQ98"
    },
    {
      "cell_type": "code",
      "source": [
        "X_train, y_train = series[:7000, :n_steps], series[:7000, -1]\n",
        "X_valid, y_valid = series[7000:9000, :n_steps], series[7000:9000, -1]\n",
        "X_test, y_test = series[9000:, :n_steps], series[9000:, -1]"
      ],
      "metadata": {
        "id": "hPX75BPkmZqk"
      },
      "id": "hPX75BPkmZqk",
      "execution_count": 169,
      "outputs": []
    },
    {
      "cell_type": "code",
      "source": [
        "no_training_epochs = 5"
      ],
      "metadata": {
        "id": "0DtVKkwzuoQZ"
      },
      "id": "0DtVKkwzuoQZ",
      "execution_count": 170,
      "outputs": []
    },
    {
      "cell_type": "markdown",
      "source": [
        "### 1.3 Data examination"
      ],
      "metadata": {
        "id": "js6Qzm--rXmD"
      },
      "id": "js6Qzm--rXmD"
    },
    {
      "cell_type": "code",
      "source": [
        "plt.figure()\n",
        "plt.plot(X_train[0])\n",
        "plt.plot(n_steps+1, y_train[0], 'rx')"
      ],
      "metadata": {
        "colab": {
          "base_uri": "https://localhost:8080/",
          "height": 447
        },
        "id": "GpXWorBknLSr",
        "outputId": "bcbbef11-7d62-4521-a610-aa5abc165f14"
      },
      "id": "GpXWorBknLSr",
      "execution_count": 171,
      "outputs": [
        {
          "output_type": "execute_result",
          "data": {
            "text/plain": [
              "[<matplotlib.lines.Line2D at 0x7bdfd081d420>]"
            ]
          },
          "metadata": {},
          "execution_count": 171
        },
        {
          "output_type": "display_data",
          "data": {
            "text/plain": [
              "<Figure size 640x480 with 1 Axes>"
            ],
            "image/png": "[encoded data removed]"
          },
          "metadata": {}
        }
      ]
    },
    {
      "cell_type": "markdown",
      "source": [
        "### 1.4 Simple Linear model"
      ],
      "metadata": {
        "id": "GvgPXxfBrahC"
      },
      "id": "GvgPXxfBrahC"
    },
    {
      "cell_type": "code",
      "source": [
        "# Model definition\n",
        "model_linear = Sequential()\n",
        "model_linear.add(Flatten(input_shape=(50,1)))\n",
        "model_linear.add(Dense(1, activation = None))"
      ],
      "metadata": {
        "id": "g7izHKRso_an"
      },
      "id": "g7izHKRso_an",
      "execution_count": 172,
      "outputs": []
    },
    {
      "cell_type": "code",
      "source": [
        "# Model building\n",
        "\n",
        "learning_rate = 0.001\n",
        "optimizer = Adam(learning_rate)\n",
        "model_linear.compile(loss='mean_squared_error', optimizer=optimizer, metrics=['mean_squared_error'])"
      ],
      "metadata": {
        "id": "csJhWfvypZw7"
      },
      "id": "csJhWfvypZw7",
      "execution_count": 173,
      "outputs": []
    },
    {
      "cell_type": "code",
      "source": [
        "model_linear.summary()"
      ],
      "metadata": {
        "colab": {
          "base_uri": "https://localhost:8080/"
        },
        "id": "D3iBcNJQpnMv",
        "outputId": "d9607e74-27ff-4617-aba6-18cacb4e5f48"
      },
      "id": "D3iBcNJQpnMv",
      "execution_count": 174,
      "outputs": [
        {
          "output_type": "stream",
          "name": "stdout",
          "text": [
            "Model: \"sequential_24\"\n",
            "_________________________________________________________________\n",
            " Layer (type)                Output Shape              Param #   \n",
            "=================================================================\n",
            " flatten_3 (Flatten)         (None, 50)                0         \n",
            "                                                                 \n",
            " dense_17 (Dense)            (None, 1)                 51        \n",
            "                                                                 \n",
            "=================================================================\n",
            "Total params: 51 (204.00 Byte)\n",
            "Trainable params: 51 (204.00 Byte)\n",
            "Non-trainable params: 0 (0.00 Byte)\n",
            "_________________________________________________________________\n"
          ]
        }
      ]
    },
    {
      "cell_type": "code",
      "source": [
        "# Model training\n",
        "\n",
        "history_linear = model_linear.fit(X_train, y_train, epochs=no_training_epochs, validation_data=[X_valid, y_valid])"
      ],
      "metadata": {
        "colab": {
          "base_uri": "https://localhost:8080/"
        },
        "id": "GGZMF0d9pmbv",
        "outputId": "c2a1da51-268e-4045-b1e0-183f971e3901"
      },
      "id": "GGZMF0d9pmbv",
      "execution_count": 175,
      "outputs": [
        {
          "output_type": "stream",
          "name": "stdout",
          "text": [
            "Epoch 1/5\n",
            "219/219 [==============================] - 1s 4ms/step - loss: 0.2445 - mean_squared_error: 0.2445 - val_loss: 0.0666 - val_mean_squared_error: 0.0666\n",
            "Epoch 2/5\n",
            "219/219 [==============================] - 1s 3ms/step - loss: 0.0455 - mean_squared_error: 0.0455 - val_loss: 0.0314 - val_mean_squared_error: 0.0314\n",
            "Epoch 3/5\n",
            "219/219 [==============================] - 1s 3ms/step - loss: 0.0238 - mean_squared_error: 0.0238 - val_loss: 0.0184 - val_mean_squared_error: 0.0184\n",
            "Epoch 4/5\n",
            "219/219 [==============================] - 1s 3ms/step - loss: 0.0153 - mean_squared_error: 0.0153 - val_loss: 0.0126 - val_mean_squared_error: 0.0126\n",
            "Epoch 5/5\n",
            "219/219 [==============================] - 1s 3ms/step - loss: 0.0111 - mean_squared_error: 0.0111 - val_loss: 0.0094 - val_mean_squared_error: 0.0094\n"
          ]
        }
      ]
    },
    {
      "cell_type": "code",
      "source": [
        "def plot_function(history):\n",
        "  plt.figure()\n",
        "\n",
        "  plt.plot(history.history['loss'], label='loss')\n",
        "  plt.plot(history.history['val_loss'], label='validation_loss')\n",
        "  plt.legend()\n",
        "  plt.grid()\n",
        "  plt.xlim([0,no_training_epochs-1])\n",
        "  plt.xlabel('epochs')"
      ],
      "metadata": {
        "id": "t9IahRnYqSi4"
      },
      "id": "t9IahRnYqSi4",
      "execution_count": 176,
      "outputs": []
    },
    {
      "cell_type": "code",
      "source": [
        "plot_function(history_linear)"
      ],
      "metadata": {
        "colab": {
          "base_uri": "https://localhost:8080/",
          "height": 449
        },
        "id": "wMAEXxYiwKYo",
        "outputId": "1d4eed55-54da-4f3d-cd1e-ce863dc9d05b"
      },
      "id": "wMAEXxYiwKYo",
      "execution_count": 177,
      "outputs": [
        {
          "output_type": "display_data",
          "data": {
            "text/plain": [
              "<Figure size 640x480 with 1 Axes>"
            ],
            "image/png": "[encoded data removed]"
          },
          "metadata": {}
        }
      ]
    },
    {
      "cell_type": "code",
      "source": [
        "score = model_linear.evaluate(X_test, y_test, verbose=0)\n",
        "print('Test loss:', score[0])\n",
        "print(f'Test MSE: ', score[1])"
      ],
      "metadata": {
        "colab": {
          "base_uri": "https://localhost:8080/"
        },
        "id": "nKnuXHSSqV8n",
        "outputId": "d2ed12cb-bd31-4bec-de39-37848da9d8ae"
      },
      "id": "nKnuXHSSqV8n",
      "execution_count": 178,
      "outputs": [
        {
          "output_type": "stream",
          "name": "stdout",
          "text": [
            "Test loss: 0.009473045356571674\n",
            "Test MSE:  0.009473045356571674\n"
          ]
        }
      ]
    },
    {
      "cell_type": "markdown",
      "source": [
        "### 1.5 Simple RNN Model"
      ],
      "metadata": {
        "id": "odHZYob8rf4B"
      },
      "id": "odHZYob8rf4B"
    },
    {
      "cell_type": "code",
      "source": [
        "model_simple_rnn = Sequential()\n",
        "model_simple_rnn.add(SimpleRNN(1, input_shape=[50, 1]))"
      ],
      "metadata": {
        "id": "jRSMY-2GrAI5"
      },
      "id": "jRSMY-2GrAI5",
      "execution_count": 179,
      "outputs": []
    },
    {
      "cell_type": "code",
      "source": [
        "learning_rate_simple_rnn = 0.001\n",
        "optimizer_simple_rnn = Adam(learning_rate_simple_rnn)\n",
        "model_simple_rnn.compile(loss='mean_squared_error', optimizer=optimizer_simple_rnn, metrics=['mean_squared_error'])"
      ],
      "metadata": {
        "id": "a4O10LpTtPun"
      },
      "id": "a4O10LpTtPun",
      "execution_count": 180,
      "outputs": []
    },
    {
      "cell_type": "code",
      "source": [
        "history_simple_rnn = model_simple_rnn.fit(X_train, y_train, epochs=no_training_epochs, validation_data=[X_valid, y_valid])"
      ],
      "metadata": {
        "colab": {
          "base_uri": "https://localhost:8080/"
        },
        "id": "kvkCnmGDtaSo",
        "outputId": "45653946-a74a-47ae-db06-4e3b094dffd6"
      },
      "id": "kvkCnmGDtaSo",
      "execution_count": 181,
      "outputs": [
        {
          "output_type": "stream",
          "name": "stdout",
          "text": [
            "Epoch 1/5\n",
            "219/219 [==============================] - 9s 36ms/step - loss: 0.0776 - mean_squared_error: 0.0776 - val_loss: 0.0637 - val_mean_squared_error: 0.0637\n",
            "Epoch 2/5\n",
            "219/219 [==============================] - 7s 32ms/step - loss: 0.0551 - mean_squared_error: 0.0551 - val_loss: 0.0449 - val_mean_squared_error: 0.0449\n",
            "Epoch 3/5\n",
            "219/219 [==============================] - 8s 35ms/step - loss: 0.0383 - mean_squared_error: 0.0383 - val_loss: 0.0305 - val_mean_squared_error: 0.0305\n",
            "Epoch 4/5\n",
            "219/219 [==============================] - 7s 31ms/step - loss: 0.0260 - mean_squared_error: 0.0260 - val_loss: 0.0207 - val_mean_squared_error: 0.0207\n",
            "Epoch 5/5\n",
            "219/219 [==============================] - 8s 34ms/step - loss: 0.0181 - mean_squared_error: 0.0181 - val_loss: 0.0152 - val_mean_squared_error: 0.0152\n"
          ]
        }
      ]
    },
    {
      "cell_type": "code",
      "source": [
        "plot_function(history_simple_rnn)"
      ],
      "metadata": {
        "id": "a7b9ss0XJLUs",
        "colab": {
          "base_uri": "https://localhost:8080/",
          "height": 451
        },
        "outputId": "efd4b23c-8ab1-4fb1-f4f5-88104eeb3a64"
      },
      "id": "a7b9ss0XJLUs",
      "execution_count": 185,
      "outputs": [
        {
          "output_type": "display_data",
          "data": {
            "text/plain": [
              "<Figure size 640x480 with 1 Axes>"
            ],
            "image/png": "[encoded data removed]"
          },
          "metadata": {}
        }
      ]
    },
    {
      "cell_type": "markdown",
      "source": [
        "### 1.5 Deep RNN Model"
      ],
      "metadata": {
        "id": "NxaXF_ZKuMSN"
      },
      "id": "NxaXF_ZKuMSN"
    },
    {
      "cell_type": "code",
      "source": [
        "model_deep_rnn = Sequential()\n",
        "model_deep_rnn.add(SimpleRNN(30, return_sequences = True, input_shape=[50, 1]))\n",
        "model_deep_rnn.add(SimpleRNN(30, return_sequences = True))\n",
        "model_deep_rnn.add(SimpleRNN(1, input_shape=[50, 1]))"
      ],
      "metadata": {
        "id": "Vf6SRKUGtgQU"
      },
      "id": "Vf6SRKUGtgQU",
      "execution_count": 182,
      "outputs": []
    },
    {
      "cell_type": "code",
      "source": [
        "learning_rate_deep_rnn = 0.001\n",
        "optimizer_deep_rnn = Adam(learning_rate_deep_rnn)\n",
        "model_deep_rnn.compile(loss='mean_squared_error', optimizer=optimizer_deep_rnn, metrics=['mean_squared_error'])"
      ],
      "metadata": {
        "id": "rykrG5VXuZ6s"
      },
      "id": "rykrG5VXuZ6s",
      "execution_count": 183,
      "outputs": []
    },
    {
      "cell_type": "code",
      "source": [
        "history_deep_rnn = model_deep_rnn.fit(X_train, y_train, epochs=no_training_epochs, validation_data=[X_valid, y_valid])"
      ],
      "metadata": {
        "colab": {
          "base_uri": "https://localhost:8080/"
        },
        "id": "TX-nr2jOuhIm",
        "outputId": "99ef8dcc-c5e3-4659-ebc3-1c96cef4080f"
      },
      "id": "TX-nr2jOuhIm",
      "execution_count": 184,
      "outputs": [
        {
          "output_type": "stream",
          "name": "stdout",
          "text": [
            "Epoch 1/5\n",
            "219/219 [==============================] - 33s 131ms/step - loss: 0.0637 - mean_squared_error: 0.0637 - val_loss: 0.0079 - val_mean_squared_error: 0.0079\n",
            "Epoch 2/5\n",
            "219/219 [==============================] - 30s 136ms/step - loss: 0.0068 - mean_squared_error: 0.0068 - val_loss: 0.0051 - val_mean_squared_error: 0.0051\n",
            "Epoch 3/5\n",
            "219/219 [==============================] - 30s 137ms/step - loss: 0.0049 - mean_squared_error: 0.0049 - val_loss: 0.0045 - val_mean_squared_error: 0.0045\n",
            "Epoch 4/5\n",
            "219/219 [==============================] - 29s 133ms/step - loss: 0.0041 - mean_squared_error: 0.0041 - val_loss: 0.0047 - val_mean_squared_error: 0.0047\n",
            "Epoch 5/5\n",
            "219/219 [==============================] - 30s 136ms/step - loss: 0.0039 - mean_squared_error: 0.0039 - val_loss: 0.0036 - val_mean_squared_error: 0.0036\n"
          ]
        }
      ]
    },
    {
      "cell_type": "code",
      "source": [
        "score = model_deep_rnn.evaluate(X_test, y_test, verbose=0)\n",
        "print('Test loss:', score[0])\n",
        "print(f'Test MSE: ', score[1])"
      ],
      "metadata": {
        "colab": {
          "base_uri": "https://localhost:8080/"
        },
        "id": "W2JOVZAlw2I6",
        "outputId": "91f182a5-ae39-4de2-d4e0-44b677be68b7"
      },
      "id": "W2JOVZAlw2I6",
      "execution_count": 186,
      "outputs": [
        {
          "output_type": "stream",
          "name": "stdout",
          "text": [
            "Test loss: 0.0038974073249846697\n",
            "Test MSE:  0.0038974073249846697\n"
          ]
        }
      ]
    },
    {
      "cell_type": "code",
      "source": [
        "plot_function(history_simple_rnn)"
      ],
      "metadata": {
        "id": "h-RBk92nJSXt",
        "colab": {
          "base_uri": "https://localhost:8080/",
          "height": 451
        },
        "outputId": "9b41e49a-24eb-48be-b0dc-e11d97565377"
      },
      "id": "h-RBk92nJSXt",
      "execution_count": 187,
      "outputs": [
        {
          "output_type": "display_data",
          "data": {
            "text/plain": [
              "<Figure size 640x480 with 1 Axes>"
            ],
            "image/png": "[encoded data removed]"
          },
          "metadata": {}
        }
      ]
    },
    {
      "cell_type": "markdown",
      "source": [
        "## Exercise 2 - The movie review\n",
        "\n",
        "\n"
      ],
      "metadata": {
        "id": "YKleL3gVxWhk"
      },
      "id": "YKleL3gVxWhk"
    },
    {
      "cell_type": "markdown",
      "source": [
        "Based on the written rewiev, classify if the movie if good or bad"
      ],
      "metadata": {
        "id": "nGOfR9_RI27U"
      },
      "id": "nGOfR9_RI27U"
    },
    {
      "cell_type": "markdown",
      "source": [
        "### 2.0 - Import libraries"
      ],
      "metadata": {
        "id": "DeJiO_Vxxz7P"
      },
      "id": "DeJiO_Vxxz7P"
    },
    {
      "cell_type": "code",
      "execution_count": 146,
      "id": "JyIAVnPUlfak",
      "metadata": {
        "id": "JyIAVnPUlfak"
      },
      "outputs": [],
      "source": [
        "from keras.preprocessing.text import Tokenizer\n",
        "import keras\n",
        "import numpy as np\n",
        "from keras.models import Sequential\n",
        "from keras.layers import LSTM, Dense, Embedding, SimpleRNN, GRU\n",
        "from keras.preprocessing.sequence import pad_sequences\n",
        "import matplotlib.pyplot as plt\n",
        "from keras.optimizers import Adam"
      ]
    },
    {
      "cell_type": "markdown",
      "source": [
        "### 2.1 - Load dataset"
      ],
      "metadata": {
        "id": "_ebMTkFqx65l"
      },
      "id": "_ebMTkFqx65l"
    },
    {
      "cell_type": "code",
      "execution_count": 147,
      "id": "zHTtEPlsq85X",
      "metadata": {
        "id": "zHTtEPlsq85X"
      },
      "outputs": [],
      "source": [
        "(X_train, y_train), (X_test, y_test) = keras.datasets.imdb.load_data()"
      ]
    },
    {
      "cell_type": "markdown",
      "source": [
        "### 2.2 - Dataset examination"
      ],
      "metadata": {
        "id": "K6UogxMDx_Y-"
      },
      "id": "K6UogxMDx_Y-"
    },
    {
      "cell_type": "code",
      "source": [
        "word_index = keras.datasets.imdb.get_word_index()\n",
        "id_to_word = {id_ + 3:word for word, id_ in word_index.items()}\n",
        "for id_, token in enumerate((\"<pad>\", \"<sos>\", \"<unk>\")):\n",
        "  id_to_word[id_] = token"
      ],
      "metadata": {
        "id": "9jLwcwPxyTD5"
      },
      "id": "9jLwcwPxyTD5",
      "execution_count": 148,
      "outputs": []
    },
    {
      "cell_type": "code",
      "source": [
        "single_sequence = \" \".join([id_to_word[id_] for id_ in X_train[0][:]])"
      ],
      "metadata": {
        "id": "c8yXphQIyXZB"
      },
      "id": "c8yXphQIyXZB",
      "execution_count": 149,
      "outputs": []
    },
    {
      "cell_type": "code",
      "source": [
        "single_sequence"
      ],
      "metadata": {
        "colab": {
          "base_uri": "https://localhost:8080/",
          "height": 105
        },
        "id": "h_1cpznZC70B",
        "outputId": "174e1359-1cab-45a1-f1db-2c8b72d10aec"
      },
      "id": "h_1cpznZC70B",
      "execution_count": 150,
      "outputs": [
        {
          "output_type": "execute_result",
          "data": {
            "text/plain": [
              "\"<sos> this film was just brilliant casting location scenery story direction everyone's really suited the part they played and you could just imagine being there robert redford's is an amazing actor and now the same being director norman's father came from the same scottish island as myself so i loved the fact there was a real connection with this film the witty remarks throughout the film were great it was just brilliant so much that i bought the film as soon as it was released for retail and would recommend it to everyone to watch and the fly fishing was amazing really cried at the end it was so sad and you know what they say if you cry at a film it must have been good and this definitely was also congratulations to the two little boy's that played the part's of norman and paul they were just brilliant children are often left out of the praising list i think because the stars that play them all grown up are such a big profile for the whole film but these children are amazing and should be praised for what they have done don't you think the whole story was so lovely because it was true and was someone's life after all that was shared with us all\""
            ],
            "application/vnd.google.colaboratory.intrinsic+json": {
              "type": "string"
            }
          },
          "metadata": {},
          "execution_count": 150
        }
      ]
    },
    {
      "cell_type": "code",
      "execution_count": 151,
      "id": "4vRZPUGr3w_m",
      "metadata": {
        "id": "4vRZPUGr3w_m"
      },
      "outputs": [],
      "source": [
        "max_length = 200  # Define the maximum length of a review\n",
        "X_train = keras.preprocessing.sequence.pad_sequences(X_train, maxlen=max_length, padding='post', truncating='post', value=0)\n",
        "X_test = keras.preprocessing.sequence.pad_sequences(X_test, maxlen=max_length, padding='post', truncating='post', value=0)"
      ]
    },
    {
      "cell_type": "code",
      "execution_count": 152,
      "id": "NhzI5klo1pYp",
      "metadata": {
        "id": "NhzI5klo1pYp"
      },
      "outputs": [],
      "source": [
        "embed_size = 128\n",
        "vocabulary_size = 5000\n",
        "\n",
        "model = keras.models.Sequential([\n",
        "    keras.layers.Embedding(vocabulary_size, embed_size,\n",
        "                           input_shape=[None]),\n",
        "    keras.layers.GRU(128, return_sequences=True),\n",
        "    keras.layers.GRU(128),\n",
        "    keras.layers.Dense(1, activation='sigmoid')\n",
        "    ])\n"
      ]
    },
    {
      "cell_type": "code",
      "execution_count": 153,
      "id": "lCz9ZWgNbhaZ",
      "metadata": {
        "id": "lCz9ZWgNbhaZ"
      },
      "outputs": [],
      "source": [
        "optimizer = Adam(learning_rate = 0.001)"
      ]
    },
    {
      "cell_type": "code",
      "execution_count": 154,
      "id": "7fdxNF0h28jf",
      "metadata": {
        "id": "7fdxNF0h28jf"
      },
      "outputs": [],
      "source": [
        "model.compile(loss=\"binary_crossentropy\", optimizer=optimizer, metrics=[\"accuracy\"])"
      ]
    },
    {
      "cell_type": "code",
      "execution_count": 155,
      "id": "lIVFi9qT3gzy",
      "metadata": {
        "colab": {
          "base_uri": "https://localhost:8080/"
        },
        "id": "lIVFi9qT3gzy",
        "outputId": "36c729d0-c6d1-412a-df47-11200aec3b46"
      },
      "outputs": [
        {
          "output_type": "stream",
          "name": "stdout",
          "text": [
            "Epoch 1/5\n",
            "625/625 [==============================] - 47s 71ms/step - loss: 0.6881 - accuracy: 0.5282 - val_loss: 0.6803 - val_accuracy: 0.5496\n",
            "Epoch 2/5\n",
            "625/625 [==============================] - 19s 31ms/step - loss: 0.5793 - accuracy: 0.6729 - val_loss: 0.3843 - val_accuracy: 0.8340\n",
            "Epoch 3/5\n",
            "625/625 [==============================] - 14s 22ms/step - loss: 0.2926 - accuracy: 0.8752 - val_loss: 0.3109 - val_accuracy: 0.8736\n",
            "Epoch 4/5\n",
            "625/625 [==============================] - 15s 24ms/step - loss: 0.1906 - accuracy: 0.9276 - val_loss: 0.3270 - val_accuracy: 0.8644\n",
            "Epoch 5/5\n",
            "625/625 [==============================] - 13s 21ms/step - loss: 0.1294 - accuracy: 0.9539 - val_loss: 0.3816 - val_accuracy: 0.8630\n"
          ]
        }
      ],
      "source": [
        "history = model.fit(X_train, y_train, epochs=5, validation_split=0.2)"
      ]
    },
    {
      "cell_type": "code",
      "source": [
        "score = model.evaluate(X_test, y_test, verbose=0)\n",
        "print('Test loss:', score[0])\n",
        "print(f'Test accuracy: ', score[1]*100, \"%\")"
      ],
      "metadata": {
        "colab": {
          "base_uri": "https://localhost:8080/"
        },
        "id": "69zrgeNHIau6",
        "outputId": "3d024d9d-939e-48b8-eed0-22889da258d5"
      },
      "id": "69zrgeNHIau6",
      "execution_count": 156,
      "outputs": [
        {
          "output_type": "stream",
          "name": "stdout",
          "text": [
            "Test loss: 0.40870144963264465\n",
            "Test accuracy:  85.11999845504761 %\n"
          ]
        }
      ]
    },
    {
      "cell_type": "markdown",
      "source": [
        "TASK: Modify structure, change the core of the network from RNN to LTSM and GRU. Compare the results"
      ],
      "metadata": {
        "id": "ZtA1O3R1RArG"
      },
      "id": "ZtA1O3R1RArG"
    },
    {
      "cell_type": "markdown",
      "source": [
        "In experimenting with the code to achieve better results, i firstly changed simple RNN to GRU model. that helped quite a bit. I tried to change maximal length of a review and vocabulary size."
      ],
      "metadata": {
        "id": "2n9g7ZOYiVaz"
      },
      "id": "2n9g7ZOYiVaz"
    }
  ],
  "metadata": {
    "accelerator": "GPU",
    "colab": {
      "gpuType": "T4",
      "provenance": [],
      "include_colab_link": true
    },
    "kernelspec": {
      "display_name": "Python 3",
      "name": "python3"
    },
    "language_info": {
      "codemirror_mode": {
        "name": "ipython",
        "version": 3
      },
      "file_extension": ".py",
      "mimetype": "text/x-python",
      "name": "python",
      "nbconvert_exporter": "python",
      "pygments_lexer": "ipython3",
      "version": "3.10.12"
    }
  },
  "nbformat": 4,
  "nbformat_minor": 5
}